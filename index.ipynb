{
 "cells": [
  {
   "cell_type": "markdown",
   "metadata": {},
   "source": [
    "# Obtaining Your Data - Lab"
   ]
  },
  {
   "cell_type": "markdown",
   "metadata": {},
   "source": [
    "## Introduction\n",
    "In this lab you'll practice your munging and transforming skills in order to load in your data to solve a regression problem."
   ]
  },
  {
   "cell_type": "markdown",
   "metadata": {},
   "source": [
    "## Objectives\n",
    "You will be able to:\n",
    "* Understand the ETL process and the steps it consists of\n",
    "* Understand the challenges of working with data from multiple sources "
   ]
  },
  {
   "cell_type": "markdown",
   "metadata": {},
   "source": [
    "## Task Description\n",
    "\n",
    "You just got hired by Lego! Your first project is going to be to develop a pricing algorithm to help set a target price for new lego sets that are released to market. To do this, you're first going to need to start mining the company database in order to collect the information you need to develop a model.\n",
    "\n",
    "Start by investigating the database stored in lego.db and joining the tables into a unified dataset!\n",
    "\n",
    "> **Hint:** use this sql statement to preview the tables in an unknown database:\n",
    "```sql\n",
    "SELECT name FROM sqlite_master\n",
    "             WHERE type='table'\n",
    "             ORDER BY name;\n",
    "```"
   ]
  },
  {
   "cell_type": "code",
   "execution_count": 2,
   "metadata": {},
   "outputs": [],
   "source": [
    "# import libraries\n",
    "import pandas as pd\n",
    "import sqlite3"
   ]
  },
  {
   "cell_type": "code",
   "execution_count": 12,
   "metadata": {
    "scrolled": true
   },
   "outputs": [
    {
     "data": {
      "text/plain": [
       "[('product_details',),\n",
       " ('product_info',),\n",
       " ('product_pricing',),\n",
       " ('product_reviews',)]"
      ]
     },
     "execution_count": 12,
     "metadata": {},
     "output_type": "execute_result"
    }
   ],
   "source": [
    "# connect to database and retrieve table names\n",
    "conn = sqlite3.connect('lego.db')\n",
    "c = conn.cursor()\n",
    "\n",
    "names = c.execute(\"\"\"SELECT name FROM sqlite_master WHERE type = 'table' ORDER BY name\"\"\").fetchall()\n",
    "names"
   ]
  },
  {
   "cell_type": "code",
   "execution_count": 16,
   "metadata": {},
   "outputs": [
    {
     "name": "stdout",
     "output_type": "stream",
     "text": [
      "product_details:  ['prod_id', 'prod_desc', 'prod_long_desc', 'theme_name']\n",
      "product_info:  ['prod_id', 'ages', 'piece_count', 'set_name']\n",
      "product_pricing:  ['prod_id', 'country', 'list_price']\n",
      "product_reviews:  ['prod_id', 'num_reviews', 'play_star_rating', 'review_difficulty', 'star_rating', 'val_star_rating']\n"
     ]
    }
   ],
   "source": [
    "# Find columns on which to join\n",
    "for name in names:\n",
    "    print(name[0] + ': ', [x[0] for x in c.execute(\"\"\"SELECT * FROM {}\"\"\".format(name[0])).description])"
   ]
  },
  {
   "cell_type": "markdown",
   "metadata": {},
   "source": [
    "They all have a product_id so I will join them on product_id"
   ]
  },
  {
   "cell_type": "code",
   "execution_count": 18,
   "metadata": {
    "scrolled": true
   },
   "outputs": [
    {
     "name": "stdout",
     "output_type": "stream",
     "text": [
      "<class 'pandas.core.frame.DataFrame'>\n",
      "RangeIndex: 10870 entries, 0 to 10869\n",
      "Data columns (total 14 columns):\n",
      "prod_id              10870 non-null int64\n",
      "prod_desc            10870 non-null object\n",
      "prod_long_desc       10870 non-null object\n",
      "theme_name           10870 non-null object\n",
      "ages                 10870 non-null object\n",
      "piece_count          10870 non-null int64\n",
      "set_name             10870 non-null object\n",
      "country              10870 non-null object\n",
      "list_price           10870 non-null object\n",
      "num_reviews          9449 non-null float64\n",
      "play_star_rating     9321 non-null float64\n",
      "review_difficulty    10870 non-null object\n",
      "star_rating          9449 non-null float64\n",
      "val_star_rating      9301 non-null float64\n",
      "dtypes: float64(4), int64(2), object(8)\n",
      "memory usage: 1.2+ MB\n",
      "None\n",
      "(10870, 14)\n"
     ]
    },
    {
     "data": {
      "text/html": [
       "<div>\n",
       "<style scoped>\n",
       "    .dataframe tbody tr th:only-of-type {\n",
       "        vertical-align: middle;\n",
       "    }\n",
       "\n",
       "    .dataframe tbody tr th {\n",
       "        vertical-align: top;\n",
       "    }\n",
       "\n",
       "    .dataframe thead th {\n",
       "        text-align: right;\n",
       "    }\n",
       "</style>\n",
       "<table border=\"1\" class=\"dataframe\">\n",
       "  <thead>\n",
       "    <tr style=\"text-align: right;\">\n",
       "      <th></th>\n",
       "      <th>prod_id</th>\n",
       "      <th>prod_desc</th>\n",
       "      <th>prod_long_desc</th>\n",
       "      <th>theme_name</th>\n",
       "      <th>ages</th>\n",
       "      <th>piece_count</th>\n",
       "      <th>set_name</th>\n",
       "      <th>country</th>\n",
       "      <th>list_price</th>\n",
       "      <th>num_reviews</th>\n",
       "      <th>play_star_rating</th>\n",
       "      <th>review_difficulty</th>\n",
       "      <th>star_rating</th>\n",
       "      <th>val_star_rating</th>\n",
       "    </tr>\n",
       "  </thead>\n",
       "  <tbody>\n",
       "    <tr>\n",
       "      <th>0</th>\n",
       "      <td>75823</td>\n",
       "      <td>blah</td>\n",
       "      <td>blahblah</td>\n",
       "      <td>Angry Birds™</td>\n",
       "      <td>6-12</td>\n",
       "      <td>277</td>\n",
       "      <td>Bird Island Egg Heist</td>\n",
       "      <td>US</td>\n",
       "      <td>29.99</td>\n",
       "      <td>2.0</td>\n",
       "      <td>4.0</td>\n",
       "      <td>Average</td>\n",
       "      <td>4.5</td>\n",
       "      <td>4.0</td>\n",
       "    </tr>\n",
       "    <tr>\n",
       "      <th>1</th>\n",
       "      <td>75822</td>\n",
       "      <td>blah</td>\n",
       "      <td>blahblah</td>\n",
       "      <td>Angry Birds™</td>\n",
       "      <td>6-12</td>\n",
       "      <td>168</td>\n",
       "      <td>Piggy Plane Attack</td>\n",
       "      <td>US</td>\n",
       "      <td>19.99</td>\n",
       "      <td>2.0</td>\n",
       "      <td>4.0</td>\n",
       "      <td>Easy</td>\n",
       "      <td>5.0</td>\n",
       "      <td>4.0</td>\n",
       "    </tr>\n",
       "    <tr>\n",
       "      <th>2</th>\n",
       "      <td>75821</td>\n",
       "      <td>blah</td>\n",
       "      <td>blahblah</td>\n",
       "      <td>Angry Birds™</td>\n",
       "      <td>6-12</td>\n",
       "      <td>74</td>\n",
       "      <td>Piggy Car Escape</td>\n",
       "      <td>US</td>\n",
       "      <td>12.99</td>\n",
       "      <td>11.0</td>\n",
       "      <td>4.3</td>\n",
       "      <td>Easy</td>\n",
       "      <td>4.3</td>\n",
       "      <td>4.1</td>\n",
       "    </tr>\n",
       "    <tr>\n",
       "      <th>3</th>\n",
       "      <td>21030</td>\n",
       "      <td>blah</td>\n",
       "      <td>blahblah</td>\n",
       "      <td>Architecture</td>\n",
       "      <td>12+</td>\n",
       "      <td>1032</td>\n",
       "      <td>United States Capitol Building</td>\n",
       "      <td>US</td>\n",
       "      <td>99.99</td>\n",
       "      <td>23.0</td>\n",
       "      <td>3.6</td>\n",
       "      <td>Average</td>\n",
       "      <td>4.6</td>\n",
       "      <td>4.3</td>\n",
       "    </tr>\n",
       "    <tr>\n",
       "      <th>4</th>\n",
       "      <td>21035</td>\n",
       "      <td>blah</td>\n",
       "      <td>blahblah</td>\n",
       "      <td>Architecture</td>\n",
       "      <td>12+</td>\n",
       "      <td>744</td>\n",
       "      <td>Solomon R. Guggenheim Museum®</td>\n",
       "      <td>US</td>\n",
       "      <td>79.99</td>\n",
       "      <td>14.0</td>\n",
       "      <td>3.2</td>\n",
       "      <td>Challenging</td>\n",
       "      <td>4.6</td>\n",
       "      <td>4.1</td>\n",
       "    </tr>\n",
       "  </tbody>\n",
       "</table>\n",
       "</div>"
      ],
      "text/plain": [
       "   prod_id prod_desc prod_long_desc    theme_name  ages  piece_count  \\\n",
       "0    75823      blah       blahblah  Angry Birds™  6-12          277   \n",
       "1    75822      blah       blahblah  Angry Birds™  6-12          168   \n",
       "2    75821      blah       blahblah  Angry Birds™  6-12           74   \n",
       "3    21030      blah       blahblah  Architecture   12+         1032   \n",
       "4    21035      blah       blahblah  Architecture   12+          744   \n",
       "\n",
       "                         set_name country list_price  num_reviews  \\\n",
       "0           Bird Island Egg Heist      US      29.99          2.0   \n",
       "1              Piggy Plane Attack      US      19.99          2.0   \n",
       "2                Piggy Car Escape      US      12.99         11.0   \n",
       "3  United States Capitol Building      US      99.99         23.0   \n",
       "4   Solomon R. Guggenheim Museum®      US      79.99         14.0   \n",
       "\n",
       "   play_star_rating review_difficulty  star_rating  val_star_rating  \n",
       "0               4.0           Average          4.5              4.0  \n",
       "1               4.0              Easy          5.0              4.0  \n",
       "2               4.3              Easy          4.3              4.1  \n",
       "3               3.6           Average          4.6              4.3  \n",
       "4               3.2       Challenging          4.6              4.1  "
      ]
     },
     "execution_count": 18,
     "metadata": {},
     "output_type": "execute_result"
    }
   ],
   "source": [
    "query = \"\"\"\n",
    "SELECT * FROM product_details JOIN product_info USING(prod_id)\n",
    "        JOIN product_pricing USING(prod_id)\n",
    "        JOIN product_reviews USING(prod_id)\n",
    "\"\"\"\n",
    "df = pd.DataFrame(c.execute(query).fetchall())\n",
    "df.columns = [x[0] for x in c.description]\n",
    "print(df.info())\n",
    "print(df.shape)\n",
    "df.head()"
   ]
  },
  {
   "cell_type": "markdown",
   "metadata": {},
   "source": [
    "Now I will store the dataframe as a file"
   ]
  },
  {
   "cell_type": "code",
   "execution_count": 21,
   "metadata": {},
   "outputs": [],
   "source": [
    "df.to_csv('Lego_DataFrame')"
   ]
  },
  {
   "cell_type": "markdown",
   "metadata": {},
   "source": [
    "## Summary\n",
    "Nice work! You're working more and more independently through the workflow and ensuring data integrity!"
   ]
  }
 ],
 "metadata": {
  "kernelspec": {
   "display_name": "learn-env",
   "language": "python",
   "name": "learn-env"
  },
  "language_info": {
   "codemirror_mode": {
    "name": "ipython",
    "version": 3
   },
   "file_extension": ".py",
   "mimetype": "text/x-python",
   "name": "python",
   "nbconvert_exporter": "python",
   "pygments_lexer": "ipython3",
   "version": "3.6.6"
  }
 },
 "nbformat": 4,
 "nbformat_minor": 2
}
